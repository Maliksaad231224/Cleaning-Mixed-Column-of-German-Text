{
 "cells": [
  {
   "cell_type": "code",
   "execution_count": 9,
   "id": "5739a2f9",
   "metadata": {},
   "outputs": [],
   "source": [
    "import pandas as pd\n",
    "\n",
    "df = pd.read_excel('2014_10_11_Bkat_o_CR_beginnt_alle (2).xlsx', sheet_name='alle')"
   ]
  },
  {
   "cell_type": "code",
   "execution_count": 10,
   "id": "cfe8b219",
   "metadata": {},
   "outputs": [
    {
     "data": {
      "text/plain": [
       "Index(['Titel_Autor', 'Autorenvorname', 'RASignatur', 'Beginnt mit',\n",
       "       'Volltext'],\n",
       "      dtype='object')"
      ]
     },
     "execution_count": 10,
     "metadata": {},
     "output_type": "execute_result"
    }
   ],
   "source": [
    "df.columns"
   ]
  },
  {
   "cell_type": "code",
   "execution_count": 11,
   "id": "e4b37178",
   "metadata": {},
   "outputs": [
    {
     "name": "stdout",
     "output_type": "stream",
     "text": [
      "(3018, 5)\n",
      "(3018, 5)\n",
      "(3018, 5)\n",
      "(3018, 5)\n",
      "(3018, 5)\n",
      "(3018, 5)\n",
      "(3018, 5)\n",
      "(3018, 5)\n",
      "(3018, 5)\n",
      "(3027, 5)\n"
     ]
    }
   ],
   "source": [
    "\n",
    "chunk = df.shape[0] // 10\n",
    "chunk\n",
    "\n",
    "for i in range(10):\n",
    "    start = i * chunk\n",
    "    end = (i + 1) * chunk if i < 9 else df.shape[0]\n",
    "    df_chunk = df.iloc[start:end]\n",
    "    print(df_chunk.shape)\n",
    "    df_chunk.to_csv(f\"chunk_{i}.csv\", index=False)"
   ]
  }
 ],
 "metadata": {
  "kernelspec": {
   "display_name": "Python 3",
   "language": "python",
   "name": "python3"
  },
  "language_info": {
   "codemirror_mode": {
    "name": "ipython",
    "version": 3
   },
   "file_extension": ".py",
   "mimetype": "text/x-python",
   "name": "python",
   "nbconvert_exporter": "python",
   "pygments_lexer": "ipython3",
   "version": "3.12.3"
  }
 },
 "nbformat": 4,
 "nbformat_minor": 5
}
